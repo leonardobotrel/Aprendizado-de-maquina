{
 "cells": [
  {
   "cell_type": "markdown",
   "metadata": {},
   "source": [
    "# Machine Learning Exercise 1 - Linear Regression"
   ]
  },
  {
   "cell_type": "markdown",
   "metadata": {},
   "source": [
    "## Linear regression with one variable"
   ]
  },
  {
   "cell_type": "code",
   "execution_count": 2,
   "metadata": {},
   "outputs": [],
   "source": [
    "import numpy as np\n",
    "import pandas as pd\n",
    "import os\n",
    "import matplotlib.pyplot as plt\n",
    "from mpl_toolkits.mplot3d import Axes3D\n",
    "%matplotlib inline"
   ]
  },
  {
   "cell_type": "code",
   "execution_count": 3,
   "metadata": {},
   "outputs": [
    {
     "data": {
      "text/html": [
       "<div>\n",
       "<style scoped>\n",
       "    .dataframe tbody tr th:only-of-type {\n",
       "        vertical-align: middle;\n",
       "    }\n",
       "\n",
       "    .dataframe tbody tr th {\n",
       "        vertical-align: top;\n",
       "    }\n",
       "\n",
       "    .dataframe thead th {\n",
       "        text-align: right;\n",
       "    }\n",
       "</style>\n",
       "<table border=\"1\" class=\"dataframe\">\n",
       "  <thead>\n",
       "    <tr style=\"text-align: right;\">\n",
       "      <th></th>\n",
       "      <th>Population</th>\n",
       "      <th>Profit</th>\n",
       "    </tr>\n",
       "  </thead>\n",
       "  <tbody>\n",
       "    <tr>\n",
       "      <th>0</th>\n",
       "      <td>6.1101</td>\n",
       "      <td>17.5920</td>\n",
       "    </tr>\n",
       "    <tr>\n",
       "      <th>1</th>\n",
       "      <td>5.5277</td>\n",
       "      <td>9.1302</td>\n",
       "    </tr>\n",
       "    <tr>\n",
       "      <th>2</th>\n",
       "      <td>8.5186</td>\n",
       "      <td>13.6620</td>\n",
       "    </tr>\n",
       "    <tr>\n",
       "      <th>3</th>\n",
       "      <td>7.0032</td>\n",
       "      <td>11.8540</td>\n",
       "    </tr>\n",
       "    <tr>\n",
       "      <th>4</th>\n",
       "      <td>5.8598</td>\n",
       "      <td>6.8233</td>\n",
       "    </tr>\n",
       "  </tbody>\n",
       "</table>\n",
       "</div>"
      ],
      "text/plain": [
       "   Population   Profit\n",
       "0      6.1101  17.5920\n",
       "1      5.5277   9.1302\n",
       "2      8.5186  13.6620\n",
       "3      7.0032  11.8540\n",
       "4      5.8598   6.8233"
      ]
     },
     "execution_count": 3,
     "metadata": {},
     "output_type": "execute_result"
    }
   ],
   "source": [
    "data = pd.read_csv('ex1data1.txt', header=None, names=['Population', 'Profit'])\n",
    "data.head()"
   ]
  },
  {
   "cell_type": "code",
   "execution_count": 4,
   "metadata": {},
   "outputs": [
    {
     "data": {
      "text/html": [
       "<div>\n",
       "<style scoped>\n",
       "    .dataframe tbody tr th:only-of-type {\n",
       "        vertical-align: middle;\n",
       "    }\n",
       "\n",
       "    .dataframe tbody tr th {\n",
       "        vertical-align: top;\n",
       "    }\n",
       "\n",
       "    .dataframe thead th {\n",
       "        text-align: right;\n",
       "    }\n",
       "</style>\n",
       "<table border=\"1\" class=\"dataframe\">\n",
       "  <thead>\n",
       "    <tr style=\"text-align: right;\">\n",
       "      <th></th>\n",
       "      <th>Population</th>\n",
       "      <th>Profit</th>\n",
       "    </tr>\n",
       "  </thead>\n",
       "  <tbody>\n",
       "    <tr>\n",
       "      <th>count</th>\n",
       "      <td>97.000000</td>\n",
       "      <td>97.000000</td>\n",
       "    </tr>\n",
       "    <tr>\n",
       "      <th>mean</th>\n",
       "      <td>8.159800</td>\n",
       "      <td>5.839135</td>\n",
       "    </tr>\n",
       "    <tr>\n",
       "      <th>std</th>\n",
       "      <td>3.869884</td>\n",
       "      <td>5.510262</td>\n",
       "    </tr>\n",
       "    <tr>\n",
       "      <th>min</th>\n",
       "      <td>5.026900</td>\n",
       "      <td>-2.680700</td>\n",
       "    </tr>\n",
       "    <tr>\n",
       "      <th>25%</th>\n",
       "      <td>5.707700</td>\n",
       "      <td>1.986900</td>\n",
       "    </tr>\n",
       "    <tr>\n",
       "      <th>50%</th>\n",
       "      <td>6.589400</td>\n",
       "      <td>4.562300</td>\n",
       "    </tr>\n",
       "    <tr>\n",
       "      <th>75%</th>\n",
       "      <td>8.578100</td>\n",
       "      <td>7.046700</td>\n",
       "    </tr>\n",
       "    <tr>\n",
       "      <th>max</th>\n",
       "      <td>22.203000</td>\n",
       "      <td>24.147000</td>\n",
       "    </tr>\n",
       "  </tbody>\n",
       "</table>\n",
       "</div>"
      ],
      "text/plain": [
       "       Population     Profit\n",
       "count   97.000000  97.000000\n",
       "mean     8.159800   5.839135\n",
       "std      3.869884   5.510262\n",
       "min      5.026900  -2.680700\n",
       "25%      5.707700   1.986900\n",
       "50%      6.589400   4.562300\n",
       "75%      8.578100   7.046700\n",
       "max     22.203000  24.147000"
      ]
     },
     "execution_count": 4,
     "metadata": {},
     "output_type": "execute_result"
    }
   ],
   "source": [
    "data.describe()"
   ]
  },
  {
   "cell_type": "code",
   "execution_count": 5,
   "metadata": {},
   "outputs": [
    {
     "data": {
      "text/plain": [
       "Text(0,0.5,'Profit in $10,000s')"
      ]
     },
     "execution_count": 5,
     "metadata": {},
     "output_type": "execute_result"
    },
    {
     "data": {
      "image/png": "[encoded data removed]",
      "text/plain": [
       "<Figure size 576x288 with 1 Axes>"
      ]
     },
     "metadata": {},
     "output_type": "display_data"
    }
   ],
   "source": [
    "ax = data.plot(kind='scatter', x='Population', y='Profit', title='Scatter plot of training data', figsize=(8,4),grid=True);\n",
    "ax.set_xlabel('Population of city in 10,000s')\n",
    "ax.set_ylabel('Profit in $10,000s')"
   ]
  },
  {
   "cell_type": "markdown",
   "metadata": {},
   "source": [
    "## Gradient Descent"
   ]
  },
  {
   "cell_type": "markdown",
   "metadata": {},
   "source": [
    "First, you create a function to compute the cost of a given solution (characterized by the parameters beta):"
   ]
  },
  {
   "cell_type": "code",
   "execution_count": 6,
   "metadata": {},
   "outputs": [],
   "source": [
    "def compute_cost(X, y, beta):\n",
    "    total_cost = 0\n",
    "    m, _ = X.shape\n",
    "    for i in range(m):\n",
    "        x_i = X[i, 1]\n",
    "        y_i = y[i]\n",
    "        b_0 = beta[0, 0]\n",
    "        b_1 = beta[0, 1]\n",
    "        total_cost += (b_0 + b_1 * x_i - y_i) ** 2\n",
    "\n",
    "    return total_cost / (2 * m)"
   ]
  },
  {
   "cell_type": "markdown",
   "metadata": {},
   "source": [
    "We store each example as a row in the X matrix. To take into account the intercept term (\\beta0), we add an additional first column to X and set it to all ones. This allows us to treat \\beta0 as simply another 'feature'."
   ]
  },
  {
   "cell_type": "code",
   "execution_count": 7,
   "metadata": {},
   "outputs": [],
   "source": [
    "data.insert(0, 'beta zero', 1)"
   ]
  },
  {
   "cell_type": "markdown",
   "metadata": {},
   "source": [
    "Now let's do some variable initialization"
   ]
  },
  {
   "cell_type": "code",
   "execution_count": 8,
   "metadata": {},
   "outputs": [],
   "source": [
    "# set X (training data) and y (target variable)\n",
    "cols = data.shape[1]\n",
    "X = data.iloc[:,0:cols-1]\n",
    "y = data.iloc[:,cols-1:cols]"
   ]
  },
  {
   "cell_type": "markdown",
   "metadata": {},
   "source": [
    "Now, you need to guarantee that X (training set) and y (target variable) are correct."
   ]
  },
  {
   "cell_type": "code",
   "execution_count": 9,
   "metadata": {},
   "outputs": [
    {
     "data": {
      "text/html": [
       "<div>\n",
       "<style scoped>\n",
       "    .dataframe tbody tr th:only-of-type {\n",
       "        vertical-align: middle;\n",
       "    }\n",
       "\n",
       "    .dataframe tbody tr th {\n",
       "        vertical-align: top;\n",
       "    }\n",
       "\n",
       "    .dataframe thead th {\n",
       "        text-align: right;\n",
       "    }\n",
       "</style>\n",
       "<table border=\"1\" class=\"dataframe\">\n",
       "  <thead>\n",
       "    <tr style=\"text-align: right;\">\n",
       "      <th></th>\n",
       "      <th>beta zero</th>\n",
       "      <th>Population</th>\n",
       "    </tr>\n",
       "  </thead>\n",
       "  <tbody>\n",
       "    <tr>\n",
       "      <th>0</th>\n",
       "      <td>1</td>\n",
       "      <td>6.1101</td>\n",
       "    </tr>\n",
       "    <tr>\n",
       "      <th>1</th>\n",
       "      <td>1</td>\n",
       "      <td>5.5277</td>\n",
       "    </tr>\n",
       "    <tr>\n",
       "      <th>2</th>\n",
       "      <td>1</td>\n",
       "      <td>8.5186</td>\n",
       "    </tr>\n",
       "    <tr>\n",
       "      <th>3</th>\n",
       "      <td>1</td>\n",
       "      <td>7.0032</td>\n",
       "    </tr>\n",
       "    <tr>\n",
       "      <th>4</th>\n",
       "      <td>1</td>\n",
       "      <td>5.8598</td>\n",
       "    </tr>\n",
       "  </tbody>\n",
       "</table>\n",
       "</div>"
      ],
      "text/plain": [
       "   beta zero  Population\n",
       "0          1      6.1101\n",
       "1          1      5.5277\n",
       "2          1      8.5186\n",
       "3          1      7.0032\n",
       "4          1      5.8598"
      ]
     },
     "execution_count": 9,
     "metadata": {},
     "output_type": "execute_result"
    }
   ],
   "source": [
    "X.head()"
   ]
  },
  {
   "cell_type": "code",
   "execution_count": 10,
   "metadata": {},
   "outputs": [
    {
     "data": {
      "text/html": [
       "<div>\n",
       "<style scoped>\n",
       "    .dataframe tbody tr th:only-of-type {\n",
       "        vertical-align: middle;\n",
       "    }\n",
       "\n",
       "    .dataframe tbody tr th {\n",
       "        vertical-align: top;\n",
       "    }\n",
       "\n",
       "    .dataframe thead th {\n",
       "        text-align: right;\n",
       "    }\n",
       "</style>\n",
       "<table border=\"1\" class=\"dataframe\">\n",
       "  <thead>\n",
       "    <tr style=\"text-align: right;\">\n",
       "      <th></th>\n",
       "      <th>Profit</th>\n",
       "    </tr>\n",
       "  </thead>\n",
       "  <tbody>\n",
       "    <tr>\n",
       "      <th>0</th>\n",
       "      <td>17.5920</td>\n",
       "    </tr>\n",
       "    <tr>\n",
       "      <th>1</th>\n",
       "      <td>9.1302</td>\n",
       "    </tr>\n",
       "    <tr>\n",
       "      <th>2</th>\n",
       "      <td>13.6620</td>\n",
       "    </tr>\n",
       "    <tr>\n",
       "      <th>3</th>\n",
       "      <td>11.8540</td>\n",
       "    </tr>\n",
       "    <tr>\n",
       "      <th>4</th>\n",
       "      <td>6.8233</td>\n",
       "    </tr>\n",
       "  </tbody>\n",
       "</table>\n",
       "</div>"
      ],
      "text/plain": [
       "    Profit\n",
       "0  17.5920\n",
       "1   9.1302\n",
       "2  13.6620\n",
       "3  11.8540\n",
       "4   6.8233"
      ]
     },
     "execution_count": 10,
     "metadata": {},
     "output_type": "execute_result"
    }
   ],
   "source": [
    "y.head()"
   ]
  },
  {
   "cell_type": "markdown",
   "metadata": {},
   "source": [
    "The cost function is expecting numpy matrices so we need to convert X and y before we can use them. We also need to initialize beta."
   ]
  },
  {
   "cell_type": "code",
   "execution_count": 11,
   "metadata": {},
   "outputs": [],
   "source": [
    "X = np.matrix(X.values)\n",
    "y = np.matrix(y.values)\n",
    "beta = np.matrix(np.array([0,0]))"
   ]
  },
  {
   "cell_type": "markdown",
   "metadata": {},
   "source": [
    "Here's what beta looks like."
   ]
  },
  {
   "cell_type": "code",
   "execution_count": 12,
   "metadata": {},
   "outputs": [
    {
     "data": {
      "text/plain": [
       "matrix([[0, 0]])"
      ]
     },
     "execution_count": 12,
     "metadata": {},
     "output_type": "execute_result"
    }
   ],
   "source": [
    "beta"
   ]
  },
  {
   "cell_type": "markdown",
   "metadata": {},
   "source": [
    "Let's take a quick look at the shape of our matrices."
   ]
  },
  {
   "cell_type": "code",
   "execution_count": 13,
   "metadata": {},
   "outputs": [
    {
     "data": {
      "text/plain": [
       "((97, 2), (1, 2), (97, 1))"
      ]
     },
     "execution_count": 13,
     "metadata": {},
     "output_type": "execute_result"
    }
   ],
   "source": [
    "X.shape, beta.shape, y.shape"
   ]
  },
  {
   "cell_type": "markdown",
   "metadata": {},
   "source": [
    "Now let's compute the cost for our initial solution (0 values for beta)."
   ]
  },
  {
   "cell_type": "code",
   "execution_count": 14,
   "metadata": {},
   "outputs": [
    {
     "data": {
      "text/plain": [
       "matrix([[32.07273388]])"
      ]
     },
     "execution_count": 14,
     "metadata": {},
     "output_type": "execute_result"
    }
   ],
   "source": [
    "compute_cost(X, y, beta)"
   ]
  },
  {
   "cell_type": "markdown",
   "metadata": {},
   "source": [
    "Now, you are asked to define a function to perform gradient descent on the parameters beta"
   ]
  },
  {
   "cell_type": "code",
   "execution_count": 15,
   "metadata": {},
   "outputs": [],
   "source": [
    "def gradient_descent(X, y, theta, alpha, iters):\n",
    "    '''\n",
    "    alpha: learning rate\n",
    "    iters: number of iterations\n",
    "    OUTPUT:\n",
    "    theta: learned parameters\n",
    "    cost:  a vector with the cost at each training iteration\n",
    "    '''\n",
    "    temp       = np.matrix(np.zeros(theta.shape))\n",
    "    parameters = int(theta.ravel().shape[1])\n",
    "    cost       = np.zeros(iters)\n",
    "    \n",
    "    for i in range(iters):\n",
    "        error = (X * theta.T) - y\n",
    "\n",
    "        for j in range(parameters):\n",
    "            term = np.multiply(error, X[:,j])\n",
    "            temp[0,j] = theta[0,j] - ((alpha / len(X)) * np.sum(term))\n",
    "\n",
    "        theta = temp\n",
    "        cost[i] = compute_cost(X, y, theta)\n",
    "        \n",
    "        \n",
    "        \n",
    "        \n",
    "    return theta, cost"
   ]
  },
  {
   "cell_type": "markdown",
   "metadata": {},
   "source": [
    "Initialize some additional variables - the learning rate alpha, and the number of iterations to perform"
   ]
  },
  {
   "cell_type": "code",
   "execution_count": 16,
   "metadata": {},
   "outputs": [],
   "source": [
    "alpha = 0.01\n",
    "iters = 1500"
   ]
  },
  {
   "cell_type": "markdown",
   "metadata": {},
   "source": [
    "Now let's run the gradient descent algorithm to fit our parameters theta to the training set."
   ]
  },
  {
   "cell_type": "code",
   "execution_count": 17,
   "metadata": {},
   "outputs": [
    {
     "data": {
      "text/plain": [
       "matrix([[-3.63029144,  1.16636235]])"
      ]
     },
     "execution_count": 17,
     "metadata": {},
     "output_type": "execute_result"
    }
   ],
   "source": [
    "g, cost = gradient_descent(X, y, beta, alpha, iters)\n",
    "g"
   ]
  },
  {
   "cell_type": "markdown",
   "metadata": {},
   "source": [
    "Finally we can compute the cost (error) of the trained model using our fitted parameters."
   ]
  },
  {
   "cell_type": "code",
   "execution_count": 18,
   "metadata": {},
   "outputs": [
    {
     "data": {
      "text/plain": [
       "matrix([[4.48338826]])"
      ]
     },
     "execution_count": 18,
     "metadata": {},
     "output_type": "execute_result"
    }
   ],
   "source": [
    "compute_cost(X, y, g)"
   ]
  },
  {
   "cell_type": "markdown",
   "metadata": {},
   "source": [
    "Now let's plot the linear model along with the data to visually see how well it fits."
   ]
  },
  {
   "cell_type": "code",
   "execution_count": 19,
   "metadata": {},
   "outputs": [
    {
     "data": {
      "image/png": "[encoded data removed]",
      "text/plain": [
       "<Figure size 576x288 with 1 Axes>"
      ]
     },
     "metadata": {},
     "output_type": "display_data"
    }
   ],
   "source": [
    "x = np.linspace(data.Population.min(), data.Population.max(), 100)\n",
    "f = g[0, 0] + (g[0, 1] * x)\n",
    "\n",
    "fig, ax = plt.subplots(figsize=(8,4))\n",
    "ax.plot(x, f, 'r', label='Prediction')\n",
    "ax.scatter(data.Population, data.Profit, label='Traning Data')\n",
    "ax.legend(loc=2)\n",
    "ax.set_xlabel('Population of city in 10,000s')\n",
    "ax.set_ylabel('Profit in $10,000s')\n",
    "ax.set_title('Predicted Profit vs. Population Size')\n",
    "ax.grid(True)"
   ]
  },
  {
   "cell_type": "markdown",
   "metadata": {},
   "source": [
    "Looks pretty good! Remember that the gradient decent function also outputs a vector with the cost at each training iteration, we can plot it as well. \n",
    "\n",
    "Since the cost always decreases - this is an example of a convex optimization problem."
   ]
  },
  {
   "cell_type": "code",
   "execution_count": 20,
   "metadata": {},
   "outputs": [
    {
     "data": {
      "image/png": "[encoded data removed]",
      "text/plain": [
       "<Figure size 576x288 with 1 Axes>"
      ]
     },
     "metadata": {},
     "output_type": "display_data"
    }
   ],
   "source": [
    "fig, ax = plt.subplots(figsize=(8,4))\n",
    "ax.plot(np.arange(iters), cost, 'r')\n",
    "ax.set_xlabel('Iterations')\n",
    "ax.set_ylabel('Cost')\n",
    "ax.set_ylim(4.0)\n",
    "ax.set_title('Error vs. Training Epoch')\n",
    "ax.grid(True)"
   ]
  },
  {
   "cell_type": "markdown",
   "metadata": {},
   "source": [
    "Now, we will show a contour plot that presents beta0 against beta1 and the outcome of J. First, we set values for beta0 and beta1"
   ]
  },
  {
   "cell_type": "code",
   "execution_count": 21,
   "metadata": {},
   "outputs": [],
   "source": [
    "beta0_vals = np.linspace(-10, 10, 100)\n",
    "beta1_vals = np.linspace(-1, 4, 100)"
   ]
  },
  {
   "cell_type": "markdown",
   "metadata": {},
   "source": [
    "Now, initialize J values to a matrix of 0's"
   ]
  },
  {
   "cell_type": "code",
   "execution_count": 22,
   "metadata": {},
   "outputs": [],
   "source": [
    "j_vals = np.zeros([len(beta0_vals), len(beta1_vals)])"
   ]
  },
  {
   "cell_type": "code",
   "execution_count": 23,
   "metadata": {},
   "outputs": [],
   "source": [
    "for i in range(len(beta0_vals)):\n",
    "    for j in range(len(beta1_vals)):\n",
    "        t = np.matrix(np.array([beta0_vals[i], beta1_vals[j]]))\n",
    "        j_vals[i,j] = compute_cost(X, y, t)"
   ]
  },
  {
   "cell_type": "code",
   "execution_count": 24,
   "metadata": {},
   "outputs": [
    {
     "data": {
      "image/png": "[encoded data removed]",
      "text/plain": [
       "<Figure size 432x288 with 1 Axes>"
      ]
     },
     "metadata": {},
     "output_type": "display_data"
    }
   ],
   "source": [
    "plt.contour(beta0_vals, beta1_vals, j_vals.T, np.logspace(-2, 3, 20));"
   ]
  },
  {
   "cell_type": "code",
   "execution_count": 25,
   "metadata": {},
   "outputs": [
    {
     "data": {
      "image/png": "[encoded data removed]",
      "text/plain": [
       "<Figure size 432x288 with 1 Axes>"
      ]
     },
     "metadata": {},
     "output_type": "display_data"
    }
   ],
   "source": [
    "plt.scatter(g[0,0],g[0,1],)\n",
    "plt.contour(beta0_vals, beta1_vals, j_vals.T, np.logspace(-2, 3, 20));"
   ]
  },
  {
   "cell_type": "markdown",
   "metadata": {},
   "source": [
    "Now, in 3D"
   ]
  },
  {
   "cell_type": "code",
   "execution_count": 26,
   "metadata": {},
   "outputs": [
    {
     "data": {
      "image/png": "[encoded data removed]",
      "text/plain": [
       "<Figure size 432x288 with 1 Axes>"
      ]
     },
     "metadata": {},
     "output_type": "display_data"
    }
   ],
   "source": [
    "beta0_mesh, beta1_mesh = np.meshgrid(beta0_vals, beta1_vals)\n",
    "fig = plt.figure()\n",
    "ax = fig.gca(projection='3d')\n",
    "ax.plot_surface(beta0_mesh, beta1_mesh, j_vals.T);"
   ]
  },
  {
   "cell_type": "markdown",
   "metadata": {},
   "source": [
    "## Linear regression with multiple variables"
   ]
  },
  {
   "cell_type": "markdown",
   "metadata": {},
   "source": [
    "From now on, you will use the second dataset, i.e., ex1data2.txt. This is a housing price dataset with 2 variables (size of the house in square feet and number of bedrooms) and a target (price of the house). You are asked to use the techniques already applied to analyze that data set."
   ]
  },
  {
   "cell_type": "code",
   "execution_count": 27,
   "metadata": {},
   "outputs": [
    {
     "data": {
      "text/html": [
       "<div>\n",
       "<style scoped>\n",
       "    .dataframe tbody tr th:only-of-type {\n",
       "        vertical-align: middle;\n",
       "    }\n",
       "\n",
       "    .dataframe tbody tr th {\n",
       "        vertical-align: top;\n",
       "    }\n",
       "\n",
       "    .dataframe thead th {\n",
       "        text-align: right;\n",
       "    }\n",
       "</style>\n",
       "<table border=\"1\" class=\"dataframe\">\n",
       "  <thead>\n",
       "    <tr style=\"text-align: right;\">\n",
       "      <th></th>\n",
       "      <th>Size</th>\n",
       "      <th>Bedrooms</th>\n",
       "      <th>Price</th>\n",
       "    </tr>\n",
       "  </thead>\n",
       "  <tbody>\n",
       "    <tr>\n",
       "      <th>0</th>\n",
       "      <td>2104</td>\n",
       "      <td>3</td>\n",
       "      <td>399900</td>\n",
       "    </tr>\n",
       "    <tr>\n",
       "      <th>1</th>\n",
       "      <td>1600</td>\n",
       "      <td>3</td>\n",
       "      <td>329900</td>\n",
       "    </tr>\n",
       "    <tr>\n",
       "      <th>2</th>\n",
       "      <td>2400</td>\n",
       "      <td>3</td>\n",
       "      <td>369000</td>\n",
       "    </tr>\n",
       "    <tr>\n",
       "      <th>3</th>\n",
       "      <td>1416</td>\n",
       "      <td>2</td>\n",
       "      <td>232000</td>\n",
       "    </tr>\n",
       "    <tr>\n",
       "      <th>4</th>\n",
       "      <td>3000</td>\n",
       "      <td>4</td>\n",
       "      <td>539900</td>\n",
       "    </tr>\n",
       "  </tbody>\n",
       "</table>\n",
       "</div>"
      ],
      "text/plain": [
       "   Size  Bedrooms   Price\n",
       "0  2104         3  399900\n",
       "1  1600         3  329900\n",
       "2  2400         3  369000\n",
       "3  1416         2  232000\n",
       "4  3000         4  539900"
      ]
     },
     "execution_count": 27,
     "metadata": {},
     "output_type": "execute_result"
    }
   ],
   "source": [
    "data2 = pd.read_csv('ex1data2.txt', header=None, names=['Size', 'Bedrooms', 'Price'])\n",
    "data2.head()"
   ]
  },
  {
   "cell_type": "markdown",
   "metadata": {},
   "source": [
    "For this task we add another pre-processing step - normalizing the features."
   ]
  },
  {
   "cell_type": "markdown",
   "metadata": {},
   "source": [
    "Notice that the scale of the values for each feature is vastly large. A house will typically have 2-5 bedrooms, but may have anywhere from hundreds to thousands of square feet. If we use the features as they are in the dataset, the 'size' feature would too much wheighted and would end up dwarfing any contributions from the 'number of bedrooms' feature. To fix this, we need to do something called 'feature normalization'. That is, we need to adjust the scale of the features to level the playing field. One way to do this is by subtracting from each value in a feature the mean of that feature, and then dividing by the standard deviation."
   ]
  },
  {
   "cell_type": "code",
   "execution_count": 28,
   "metadata": {},
   "outputs": [
    {
     "data": {
      "text/html": [
       "<div>\n",
       "<style scoped>\n",
       "    .dataframe tbody tr th:only-of-type {\n",
       "        vertical-align: middle;\n",
       "    }\n",
       "\n",
       "    .dataframe tbody tr th {\n",
       "        vertical-align: top;\n",
       "    }\n",
       "\n",
       "    .dataframe thead th {\n",
       "        text-align: right;\n",
       "    }\n",
       "</style>\n",
       "<table border=\"1\" class=\"dataframe\">\n",
       "  <thead>\n",
       "    <tr style=\"text-align: right;\">\n",
       "      <th></th>\n",
       "      <th>Size</th>\n",
       "      <th>Bedrooms</th>\n",
       "      <th>Price</th>\n",
       "    </tr>\n",
       "  </thead>\n",
       "  <tbody>\n",
       "    <tr>\n",
       "      <th>0</th>\n",
       "      <td>0.130010</td>\n",
       "      <td>-0.223675</td>\n",
       "      <td>0.475747</td>\n",
       "    </tr>\n",
       "    <tr>\n",
       "      <th>1</th>\n",
       "      <td>-0.504190</td>\n",
       "      <td>-0.223675</td>\n",
       "      <td>-0.084074</td>\n",
       "    </tr>\n",
       "    <tr>\n",
       "      <th>2</th>\n",
       "      <td>0.502476</td>\n",
       "      <td>-0.223675</td>\n",
       "      <td>0.228626</td>\n",
       "    </tr>\n",
       "    <tr>\n",
       "      <th>3</th>\n",
       "      <td>-0.735723</td>\n",
       "      <td>-1.537767</td>\n",
       "      <td>-0.867025</td>\n",
       "    </tr>\n",
       "    <tr>\n",
       "      <th>4</th>\n",
       "      <td>1.257476</td>\n",
       "      <td>1.090417</td>\n",
       "      <td>1.595389</td>\n",
       "    </tr>\n",
       "  </tbody>\n",
       "</table>\n",
       "</div>"
      ],
      "text/plain": [
       "       Size  Bedrooms     Price\n",
       "0  0.130010 -0.223675  0.475747\n",
       "1 -0.504190 -0.223675 -0.084074\n",
       "2  0.502476 -0.223675  0.228626\n",
       "3 -0.735723 -1.537767 -0.867025\n",
       "4  1.257476  1.090417  1.595389"
      ]
     },
     "execution_count": 28,
     "metadata": {},
     "output_type": "execute_result"
    }
   ],
   "source": [
    "data2 = (data2 - data2.mean()) / data2.std()\n",
    "data2.head()"
   ]
  },
  {
   "cell_type": "markdown",
   "metadata": {},
   "source": [
    "Given that you were asked to implement both cost function and gradient descent using matrix operations, your previously implementations will work just fine in the multivariate dataset. Hence, you need now insert the 'ones' column as before and separate the X's and the y's."
   ]
  },
  {
   "cell_type": "markdown",
   "metadata": {},
   "source": [
    "Conduct the rest of this exercise by repeating the experiments conducted in the simple linear dataset..."
   ]
  },
  {
   "cell_type": "code",
   "execution_count": 29,
   "metadata": {},
   "outputs": [
    {
     "data": {
      "text/html": [
       "<div>\n",
       "<style scoped>\n",
       "    .dataframe tbody tr th:only-of-type {\n",
       "        vertical-align: middle;\n",
       "    }\n",
       "\n",
       "    .dataframe tbody tr th {\n",
       "        vertical-align: top;\n",
       "    }\n",
       "\n",
       "    .dataframe thead th {\n",
       "        text-align: right;\n",
       "    }\n",
       "</style>\n",
       "<table border=\"1\" class=\"dataframe\">\n",
       "  <thead>\n",
       "    <tr style=\"text-align: right;\">\n",
       "      <th></th>\n",
       "      <th>Size</th>\n",
       "      <th>Bedrooms</th>\n",
       "      <th>Price</th>\n",
       "    </tr>\n",
       "  </thead>\n",
       "  <tbody>\n",
       "    <tr>\n",
       "      <th>count</th>\n",
       "      <td>4.700000e+01</td>\n",
       "      <td>4.700000e+01</td>\n",
       "      <td>4.700000e+01</td>\n",
       "    </tr>\n",
       "    <tr>\n",
       "      <th>mean</th>\n",
       "      <td>1.889741e-17</td>\n",
       "      <td>2.279500e-16</td>\n",
       "      <td>-8.031401e-17</td>\n",
       "    </tr>\n",
       "    <tr>\n",
       "      <th>std</th>\n",
       "      <td>1.000000e+00</td>\n",
       "      <td>1.000000e+00</td>\n",
       "      <td>1.000000e+00</td>\n",
       "    </tr>\n",
       "    <tr>\n",
       "      <th>min</th>\n",
       "      <td>-1.445423e+00</td>\n",
       "      <td>-2.851859e+00</td>\n",
       "      <td>-1.363666e+00</td>\n",
       "    </tr>\n",
       "    <tr>\n",
       "      <th>25%</th>\n",
       "      <td>-7.155897e-01</td>\n",
       "      <td>-2.236752e-01</td>\n",
       "      <td>-7.238702e-01</td>\n",
       "    </tr>\n",
       "    <tr>\n",
       "      <th>50%</th>\n",
       "      <td>-1.417900e-01</td>\n",
       "      <td>-2.236752e-01</td>\n",
       "      <td>-3.239979e-01</td>\n",
       "    </tr>\n",
       "    <tr>\n",
       "      <th>75%</th>\n",
       "      <td>3.376348e-01</td>\n",
       "      <td>1.090417e+00</td>\n",
       "      <td>3.521863e-01</td>\n",
       "    </tr>\n",
       "    <tr>\n",
       "      <th>max</th>\n",
       "      <td>3.117292e+00</td>\n",
       "      <td>2.404508e+00</td>\n",
       "      <td>2.874981e+00</td>\n",
       "    </tr>\n",
       "  </tbody>\n",
       "</table>\n",
       "</div>"
      ],
      "text/plain": [
       "               Size      Bedrooms         Price\n",
       "count  4.700000e+01  4.700000e+01  4.700000e+01\n",
       "mean   1.889741e-17  2.279500e-16 -8.031401e-17\n",
       "std    1.000000e+00  1.000000e+00  1.000000e+00\n",
       "min   -1.445423e+00 -2.851859e+00 -1.363666e+00\n",
       "25%   -7.155897e-01 -2.236752e-01 -7.238702e-01\n",
       "50%   -1.417900e-01 -2.236752e-01 -3.239979e-01\n",
       "75%    3.376348e-01  1.090417e+00  3.521863e-01\n",
       "max    3.117292e+00  2.404508e+00  2.874981e+00"
      ]
     },
     "execution_count": 29,
     "metadata": {},
     "output_type": "execute_result"
    }
   ],
   "source": [
    "data2.describe()"
   ]
  },
  {
   "cell_type": "code",
   "execution_count": 30,
   "metadata": {},
   "outputs": [
    {
     "data": {
      "text/html": [
       "<div>\n",
       "<style scoped>\n",
       "    .dataframe tbody tr th:only-of-type {\n",
       "        vertical-align: middle;\n",
       "    }\n",
       "\n",
       "    .dataframe tbody tr th {\n",
       "        vertical-align: top;\n",
       "    }\n",
       "\n",
       "    .dataframe thead th {\n",
       "        text-align: right;\n",
       "    }\n",
       "</style>\n",
       "<table border=\"1\" class=\"dataframe\">\n",
       "  <thead>\n",
       "    <tr style=\"text-align: right;\">\n",
       "      <th></th>\n",
       "      <th>beta zero</th>\n",
       "      <th>Size</th>\n",
       "      <th>Bedrooms</th>\n",
       "    </tr>\n",
       "  </thead>\n",
       "  <tbody>\n",
       "    <tr>\n",
       "      <th>0</th>\n",
       "      <td>1</td>\n",
       "      <td>0.130010</td>\n",
       "      <td>-0.223675</td>\n",
       "    </tr>\n",
       "    <tr>\n",
       "      <th>1</th>\n",
       "      <td>1</td>\n",
       "      <td>-0.504190</td>\n",
       "      <td>-0.223675</td>\n",
       "    </tr>\n",
       "    <tr>\n",
       "      <th>2</th>\n",
       "      <td>1</td>\n",
       "      <td>0.502476</td>\n",
       "      <td>-0.223675</td>\n",
       "    </tr>\n",
       "    <tr>\n",
       "      <th>3</th>\n",
       "      <td>1</td>\n",
       "      <td>-0.735723</td>\n",
       "      <td>-1.537767</td>\n",
       "    </tr>\n",
       "    <tr>\n",
       "      <th>4</th>\n",
       "      <td>1</td>\n",
       "      <td>1.257476</td>\n",
       "      <td>1.090417</td>\n",
       "    </tr>\n",
       "  </tbody>\n",
       "</table>\n",
       "</div>"
      ],
      "text/plain": [
       "   beta zero      Size  Bedrooms\n",
       "0          1  0.130010 -0.223675\n",
       "1          1 -0.504190 -0.223675\n",
       "2          1  0.502476 -0.223675\n",
       "3          1 -0.735723 -1.537767\n",
       "4          1  1.257476  1.090417"
      ]
     },
     "execution_count": 30,
     "metadata": {},
     "output_type": "execute_result"
    }
   ],
   "source": [
    "data2.insert(0, 'beta zero', 1, 2)\n",
    "\n",
    "# set X (training data) and y (target variable)\n",
    "cols = data2.shape[1]\n",
    "X = data2.iloc[:,0:cols-1]\n",
    "y = data2.iloc[:,cols-1:cols]\n",
    "\n",
    "X.head()"
   ]
  },
  {
   "cell_type": "code",
   "execution_count": 31,
   "metadata": {},
   "outputs": [
    {
     "data": {
      "text/html": [
       "<div>\n",
       "<style scoped>\n",
       "    .dataframe tbody tr th:only-of-type {\n",
       "        vertical-align: middle;\n",
       "    }\n",
       "\n",
       "    .dataframe tbody tr th {\n",
       "        vertical-align: top;\n",
       "    }\n",
       "\n",
       "    .dataframe thead th {\n",
       "        text-align: right;\n",
       "    }\n",
       "</style>\n",
       "<table border=\"1\" class=\"dataframe\">\n",
       "  <thead>\n",
       "    <tr style=\"text-align: right;\">\n",
       "      <th></th>\n",
       "      <th>Price</th>\n",
       "    </tr>\n",
       "  </thead>\n",
       "  <tbody>\n",
       "    <tr>\n",
       "      <th>0</th>\n",
       "      <td>0.475747</td>\n",
       "    </tr>\n",
       "    <tr>\n",
       "      <th>1</th>\n",
       "      <td>-0.084074</td>\n",
       "    </tr>\n",
       "    <tr>\n",
       "      <th>2</th>\n",
       "      <td>0.228626</td>\n",
       "    </tr>\n",
       "    <tr>\n",
       "      <th>3</th>\n",
       "      <td>-0.867025</td>\n",
       "    </tr>\n",
       "    <tr>\n",
       "      <th>4</th>\n",
       "      <td>1.595389</td>\n",
       "    </tr>\n",
       "  </tbody>\n",
       "</table>\n",
       "</div>"
      ],
      "text/plain": [
       "      Price\n",
       "0  0.475747\n",
       "1 -0.084074\n",
       "2  0.228626\n",
       "3 -0.867025\n",
       "4  1.595389"
      ]
     },
     "execution_count": 31,
     "metadata": {},
     "output_type": "execute_result"
    }
   ],
   "source": [
    "y.head()"
   ]
  },
  {
   "cell_type": "code",
   "execution_count": 32,
   "metadata": {},
   "outputs": [
    {
     "data": {
      "text/plain": [
       "matrix([[0, 0, 0]])"
      ]
     },
     "execution_count": 32,
     "metadata": {},
     "output_type": "execute_result"
    }
   ],
   "source": [
    "X = np.matrix(X.values)\n",
    "y = np.matrix(y.values)\n",
    "beta = np.matrix(np.array([0,0,0]))\n",
    "\n",
    "beta"
   ]
  },
  {
   "cell_type": "code",
   "execution_count": 33,
   "metadata": {},
   "outputs": [
    {
     "data": {
      "text/plain": [
       "((47, 3), (1, 3), (47, 1))"
      ]
     },
     "execution_count": 33,
     "metadata": {},
     "output_type": "execute_result"
    }
   ],
   "source": [
    "X.shape, beta.shape, y.shape"
   ]
  },
  {
   "cell_type": "code",
   "execution_count": 34,
   "metadata": {},
   "outputs": [
    {
     "data": {
      "text/plain": [
       "matrix([[0.4893617]])"
      ]
     },
     "execution_count": 34,
     "metadata": {},
     "output_type": "execute_result"
    }
   ],
   "source": [
    "compute_cost(X, y, beta)"
   ]
  },
  {
   "cell_type": "code",
   "execution_count": 35,
   "metadata": {},
   "outputs": [
    {
     "data": {
      "text/plain": [
       "matrix([[-1.10856950e-16,  8.84042349e-01, -5.24551809e-02]])"
      ]
     },
     "execution_count": 35,
     "metadata": {},
     "output_type": "execute_result"
    }
   ],
   "source": [
    "g, cost = gradient_descent(X, y, beta, alpha, iters)\n",
    "g"
   ]
  },
  {
   "cell_type": "code",
   "execution_count": 36,
   "metadata": {},
   "outputs": [
    {
     "data": {
      "text/plain": [
       "matrix([[0.13204955]])"
      ]
     },
     "execution_count": 36,
     "metadata": {},
     "output_type": "execute_result"
    }
   ],
   "source": [
    "compute_cost(X, y, g)"
   ]
  },
  {
   "cell_type": "code",
   "execution_count": 108,
   "metadata": {},
   "outputs": [
    {
     "data": {
      "text/html": [
       "<div>\n",
       "<style scoped>\n",
       "    .dataframe tbody tr th:only-of-type {\n",
       "        vertical-align: middle;\n",
       "    }\n",
       "\n",
       "    .dataframe tbody tr th {\n",
       "        vertical-align: top;\n",
       "    }\n",
       "\n",
       "    .dataframe thead th {\n",
       "        text-align: right;\n",
       "    }\n",
       "</style>\n",
       "<table border=\"1\" class=\"dataframe\">\n",
       "  <thead>\n",
       "    <tr style=\"text-align: right;\">\n",
       "      <th></th>\n",
       "      <th>url</th>\n",
       "      <th>city</th>\n",
       "      <th>value</th>\n",
       "      <th>you_save</th>\n",
       "      <th>discount_pct</th>\n",
       "      <th>num_sold</th>\n",
       "      <th>limited_quantity</th>\n",
       "      <th>sold_out</th>\n",
       "      <th>tipped_at</th>\n",
       "      <th>tips_with</th>\n",
       "      <th>started_at</th>\n",
       "      <th>weekday_start</th>\n",
       "      <th>duration</th>\n",
       "      <th>featured</th>\n",
       "      <th>category</th>\n",
       "      <th>likes</th>\n",
       "    </tr>\n",
       "  </thead>\n",
       "  <tbody>\n",
       "    <tr>\n",
       "      <th>0</th>\n",
       "      <td>http://www.groupon.com/atlanta/deals/buckhead-...</td>\n",
       "      <td>Atlanta</td>\n",
       "      <td>30</td>\n",
       "      <td>15</td>\n",
       "      <td>50</td>\n",
       "      <td>108</td>\n",
       "      <td>0</td>\n",
       "      <td>0</td>\n",
       "      <td>10:26:00</td>\n",
       "      <td>25</td>\n",
       "      <td>1/3/2011</td>\n",
       "      <td>Mon</td>\n",
       "      <td>1</td>\n",
       "      <td>1</td>\n",
       "      <td>Nightlife</td>\n",
       "      <td>14.0</td>\n",
       "    </tr>\n",
       "    <tr>\n",
       "      <th>1</th>\n",
       "      <td>http://www.groupon.com/atlanta/deals/european-...</td>\n",
       "      <td>Atlanta</td>\n",
       "      <td>70</td>\n",
       "      <td>35</td>\n",
       "      <td>50</td>\n",
       "      <td>255</td>\n",
       "      <td>0</td>\n",
       "      <td>0</td>\n",
       "      <td>7:26:00</td>\n",
       "      <td>10</td>\n",
       "      <td>1/3/2011</td>\n",
       "      <td>Mon</td>\n",
       "      <td>1</td>\n",
       "      <td>0</td>\n",
       "      <td>Beauty &amp; Spas</td>\n",
       "      <td>20.0</td>\n",
       "    </tr>\n",
       "    <tr>\n",
       "      <th>2</th>\n",
       "      <td>http://www.groupon.com/atlanta/deals/orchard-h...</td>\n",
       "      <td>Atlanta</td>\n",
       "      <td>99</td>\n",
       "      <td>54</td>\n",
       "      <td>55</td>\n",
       "      <td>352</td>\n",
       "      <td>0</td>\n",
       "      <td>0</td>\n",
       "      <td>8:41:00</td>\n",
       "      <td>20</td>\n",
       "      <td>1/3/2011</td>\n",
       "      <td>Mon</td>\n",
       "      <td>2</td>\n",
       "      <td>0</td>\n",
       "      <td>Health &amp; Fitness</td>\n",
       "      <td>28.0</td>\n",
       "    </tr>\n",
       "    <tr>\n",
       "      <th>3</th>\n",
       "      <td>http://www.groupon.com/atlanta/deals/spa-bolena</td>\n",
       "      <td>Atlanta</td>\n",
       "      <td>65</td>\n",
       "      <td>35</td>\n",
       "      <td>54</td>\n",
       "      <td>501</td>\n",
       "      <td>0</td>\n",
       "      <td>0</td>\n",
       "      <td>7:15:00</td>\n",
       "      <td>20</td>\n",
       "      <td>1/3/2011</td>\n",
       "      <td>Mon</td>\n",
       "      <td>1</td>\n",
       "      <td>0</td>\n",
       "      <td>Beauty &amp; Spas</td>\n",
       "      <td>27.0</td>\n",
       "    </tr>\n",
       "    <tr>\n",
       "      <th>4</th>\n",
       "      <td>http://www.groupon.com/atlanta/deals/the-stova...</td>\n",
       "      <td>Atlanta</td>\n",
       "      <td>134</td>\n",
       "      <td>67</td>\n",
       "      <td>50</td>\n",
       "      <td>359</td>\n",
       "      <td>1</td>\n",
       "      <td>0</td>\n",
       "      <td>1:50:00</td>\n",
       "      <td>5</td>\n",
       "      <td>1/3/2011</td>\n",
       "      <td>Mon</td>\n",
       "      <td>2</td>\n",
       "      <td>0</td>\n",
       "      <td>Travel</td>\n",
       "      <td>36.0</td>\n",
       "    </tr>\n",
       "  </tbody>\n",
       "</table>\n",
       "</div>"
      ],
      "text/plain": [
       "                                                 url     city  value  \\\n",
       "0  http://www.groupon.com/atlanta/deals/buckhead-...  Atlanta     30   \n",
       "1  http://www.groupon.com/atlanta/deals/european-...  Atlanta     70   \n",
       "2  http://www.groupon.com/atlanta/deals/orchard-h...  Atlanta     99   \n",
       "3    http://www.groupon.com/atlanta/deals/spa-bolena  Atlanta     65   \n",
       "4  http://www.groupon.com/atlanta/deals/the-stova...  Atlanta    134   \n",
       "\n",
       "   you_save  discount_pct  num_sold  limited_quantity  sold_out tipped_at  \\\n",
       "0        15            50       108                 0         0  10:26:00   \n",
       "1        35            50       255                 0         0   7:26:00   \n",
       "2        54            55       352                 0         0   8:41:00   \n",
       "3        35            54       501                 0         0   7:15:00   \n",
       "4        67            50       359                 1         0   1:50:00   \n",
       "\n",
       "   tips_with started_at weekday_start  duration  featured          category  \\\n",
       "0         25   1/3/2011           Mon         1         1         Nightlife   \n",
       "1         10   1/3/2011           Mon         1         0     Beauty & Spas   \n",
       "2         20   1/3/2011           Mon         2         0  Health & Fitness   \n",
       "3         20   1/3/2011           Mon         1         0     Beauty & Spas   \n",
       "4          5   1/3/2011           Mon         2         0            Travel   \n",
       "\n",
       "   likes  \n",
       "0   14.0  \n",
       "1   20.0  \n",
       "2   28.0  \n",
       "3   27.0  \n",
       "4   36.0  "
      ]
     },
     "execution_count": 108,
     "metadata": {},
     "output_type": "execute_result"
    }
   ],
   "source": [
    "realData = pd.read_csv('groupon-deals.csv')#('groupon-deals.csv', header=None, names=['url', 'city', 'value', 'you_save', 'discount_pct', 'num_sold', 'limited_quantity', 'sold_out', 'tipped_at', 'tips_with', 'started_at', 'weekday_start', 'duration', 'featured', 'category', 'likes'])\n",
    "realData.head()"
   ]
  },
  {
   "cell_type": "code",
   "execution_count": 109,
   "metadata": {},
   "outputs": [
    {
     "data": {
      "text/html": [
       "<div>\n",
       "<style scoped>\n",
       "    .dataframe tbody tr th:only-of-type {\n",
       "        vertical-align: middle;\n",
       "    }\n",
       "\n",
       "    .dataframe tbody tr th {\n",
       "        vertical-align: top;\n",
       "    }\n",
       "\n",
       "    .dataframe thead th {\n",
       "        text-align: right;\n",
       "    }\n",
       "</style>\n",
       "<table border=\"1\" class=\"dataframe\">\n",
       "  <thead>\n",
       "    <tr style=\"text-align: right;\">\n",
       "      <th></th>\n",
       "      <th>value</th>\n",
       "      <th>you_save</th>\n",
       "      <th>discount_pct</th>\n",
       "      <th>num_sold</th>\n",
       "      <th>limited_quantity</th>\n",
       "      <th>sold_out</th>\n",
       "      <th>tips_with</th>\n",
       "      <th>duration</th>\n",
       "      <th>featured</th>\n",
       "      <th>likes</th>\n",
       "    </tr>\n",
       "  </thead>\n",
       "  <tbody>\n",
       "    <tr>\n",
       "      <th>count</th>\n",
       "      <td>16692.000000</td>\n",
       "      <td>16692.000000</td>\n",
       "      <td>16692.000000</td>\n",
       "      <td>16692.000000</td>\n",
       "      <td>16692.000000</td>\n",
       "      <td>16692.000000</td>\n",
       "      <td>16692.000000</td>\n",
       "      <td>16692.000000</td>\n",
       "      <td>16692.000000</td>\n",
       "      <td>16544.000000</td>\n",
       "    </tr>\n",
       "    <tr>\n",
       "      <th>mean</th>\n",
       "      <td>132.820333</td>\n",
       "      <td>82.705188</td>\n",
       "      <td>56.078421</td>\n",
       "      <td>686.502157</td>\n",
       "      <td>0.316858</td>\n",
       "      <td>0.058531</td>\n",
       "      <td>42.178589</td>\n",
       "      <td>2.227414</td>\n",
       "      <td>0.218308</td>\n",
       "      <td>57.759309</td>\n",
       "    </tr>\n",
       "    <tr>\n",
       "      <th>std</th>\n",
       "      <td>301.529702</td>\n",
       "      <td>191.244088</td>\n",
       "      <td>9.994697</td>\n",
       "      <td>1635.664992</td>\n",
       "      <td>0.465266</td>\n",
       "      <td>0.234752</td>\n",
       "      <td>775.139152</td>\n",
       "      <td>2.857915</td>\n",
       "      <td>0.413110</td>\n",
       "      <td>122.327820</td>\n",
       "    </tr>\n",
       "    <tr>\n",
       "      <th>min</th>\n",
       "      <td>4.000000</td>\n",
       "      <td>0.000000</td>\n",
       "      <td>0.000000</td>\n",
       "      <td>0.000000</td>\n",
       "      <td>0.000000</td>\n",
       "      <td>0.000000</td>\n",
       "      <td>0.000000</td>\n",
       "      <td>0.000000</td>\n",
       "      <td>0.000000</td>\n",
       "      <td>0.000000</td>\n",
       "    </tr>\n",
       "    <tr>\n",
       "      <th>25%</th>\n",
       "      <td>30.000000</td>\n",
       "      <td>15.000000</td>\n",
       "      <td>50.000000</td>\n",
       "      <td>122.000000</td>\n",
       "      <td>0.000000</td>\n",
       "      <td>0.000000</td>\n",
       "      <td>15.000000</td>\n",
       "      <td>1.000000</td>\n",
       "      <td>0.000000</td>\n",
       "      <td>10.000000</td>\n",
       "    </tr>\n",
       "    <tr>\n",
       "      <th>50%</th>\n",
       "      <td>58.000000</td>\n",
       "      <td>30.000000</td>\n",
       "      <td>51.000000</td>\n",
       "      <td>309.000000</td>\n",
       "      <td>0.000000</td>\n",
       "      <td>0.000000</td>\n",
       "      <td>25.000000</td>\n",
       "      <td>2.000000</td>\n",
       "      <td>0.000000</td>\n",
       "      <td>25.000000</td>\n",
       "    </tr>\n",
       "    <tr>\n",
       "      <th>75%</th>\n",
       "      <td>128.000000</td>\n",
       "      <td>75.000000</td>\n",
       "      <td>60.000000</td>\n",
       "      <td>730.000000</td>\n",
       "      <td>1.000000</td>\n",
       "      <td>0.000000</td>\n",
       "      <td>50.000000</td>\n",
       "      <td>3.000000</td>\n",
       "      <td>0.000000</td>\n",
       "      <td>60.000000</td>\n",
       "    </tr>\n",
       "    <tr>\n",
       "      <th>max</th>\n",
       "      <td>6000.000000</td>\n",
       "      <td>4901.000000</td>\n",
       "      <td>99.000000</td>\n",
       "      <td>75221.000000</td>\n",
       "      <td>1.000000</td>\n",
       "      <td>1.000000</td>\n",
       "      <td>100000.000000</td>\n",
       "      <td>332.000000</td>\n",
       "      <td>1.000000</td>\n",
       "      <td>4087.000000</td>\n",
       "    </tr>\n",
       "  </tbody>\n",
       "</table>\n",
       "</div>"
      ],
      "text/plain": [
       "              value      you_save  discount_pct      num_sold  \\\n",
       "count  16692.000000  16692.000000  16692.000000  16692.000000   \n",
       "mean     132.820333     82.705188     56.078421    686.502157   \n",
       "std      301.529702    191.244088      9.994697   1635.664992   \n",
       "min        4.000000      0.000000      0.000000      0.000000   \n",
       "25%       30.000000     15.000000     50.000000    122.000000   \n",
       "50%       58.000000     30.000000     51.000000    309.000000   \n",
       "75%      128.000000     75.000000     60.000000    730.000000   \n",
       "max     6000.000000   4901.000000     99.000000  75221.000000   \n",
       "\n",
       "       limited_quantity      sold_out      tips_with      duration  \\\n",
       "count      16692.000000  16692.000000   16692.000000  16692.000000   \n",
       "mean           0.316858      0.058531      42.178589      2.227414   \n",
       "std            0.465266      0.234752     775.139152      2.857915   \n",
       "min            0.000000      0.000000       0.000000      0.000000   \n",
       "25%            0.000000      0.000000      15.000000      1.000000   \n",
       "50%            0.000000      0.000000      25.000000      2.000000   \n",
       "75%            1.000000      0.000000      50.000000      3.000000   \n",
       "max            1.000000      1.000000  100000.000000    332.000000   \n",
       "\n",
       "           featured         likes  \n",
       "count  16692.000000  16544.000000  \n",
       "mean       0.218308     57.759309  \n",
       "std        0.413110    122.327820  \n",
       "min        0.000000      0.000000  \n",
       "25%        0.000000     10.000000  \n",
       "50%        0.000000     25.000000  \n",
       "75%        0.000000     60.000000  \n",
       "max        1.000000   4087.000000  "
      ]
     },
     "execution_count": 109,
     "metadata": {},
     "output_type": "execute_result"
    }
   ],
   "source": [
    "realData.describe()"
   ]
  },
  {
   "cell_type": "code",
   "execution_count": null,
   "metadata": {},
   "outputs": [],
   "source": []
  },
  {
   "cell_type": "code",
   "execution_count": 110,
   "metadata": {},
   "outputs": [],
   "source": [
    "realData.insert(0, 'beta zero', 1)\n"
   ]
  },
  {
   "cell_type": "code",
   "execution_count": 111,
   "metadata": {},
   "outputs": [
    {
     "name": "stdout",
     "output_type": "stream",
     "text": [
      "       beta zero     value  tips_with  duration  featured  limited_quantity  \\\n",
      "0              1  3.401197   3.218876         1         1                 0   \n",
      "1              1  4.248495   2.302585         1         0                 0   \n",
      "2              1  4.595120   2.995732         2         0                 0   \n",
      "3              1  4.174387   2.995732         1         0                 0   \n",
      "4              1  4.897840   1.609438         2         0                 1   \n",
      "5              1  5.043425   2.995732         1         0                 0   \n",
      "6              1  5.010635   1.609438         1         0                 0   \n",
      "7              1  2.995732   3.401197         1         0                 1   \n",
      "8              1  2.302585   4.605170         1         0                 0   \n",
      "9              1  3.912023   2.708050         1         0                 0   \n",
      "10             1  4.905275   3.912023         1         1                 0   \n",
      "11             1  3.688879   2.995732         1         0                 0   \n",
      "12             1  2.302585   4.605170         1         1                 0   \n",
      "13             1  4.595120   3.912023         1         0                 1   \n",
      "14             1  5.075174   1.609438         1         0                 0   \n",
      "15             1  3.912023   3.218876         1         0                 0   \n",
      "16             1  5.241747   4.317488         3         0                 0   \n",
      "17             1  2.995732   3.218876         3         0                 0   \n",
      "18             1  4.007333   2.995732         3         0                 0   \n",
      "19             1  3.135494   3.218876         3         0                 0   \n",
      "20             1  5.164786   5.298317         4         1                 0   \n",
      "21             1  3.401197   5.298317         3         1                 0   \n",
      "22             1  5.267858   2.302585         2         0                 1   \n",
      "23             1  4.867534   3.218876         2         1                 1   \n",
      "24             1  2.833213   3.218876         2         0                 0   \n",
      "25             1  2.708050   3.401197         1         0                 0   \n",
      "26             1  5.521461   2.995732         1         0                 1   \n",
      "27             1  3.401197   2.708050         1         0                 0   \n",
      "28             1  2.302585   2.995732         1         0                 0   \n",
      "29             1  4.941642   3.912023         1         0                 0   \n",
      "...          ...       ...        ...       ...       ...               ...   \n",
      "16662          1  4.787492   2.995732         2         0                 1   \n",
      "16663          1  3.218876   3.218876         2         0                 0   \n",
      "16664          1  5.857933   2.708050         2         0                 0   \n",
      "16665          1  3.912023   2.708050         2         0                 0   \n",
      "16666          1  4.787492   2.995732         2         0                 1   \n",
      "16667          1  2.995732   3.912023         2         1                 0   \n",
      "16668          1  6.620073   2.995732         6         0                 0   \n",
      "16669          1  5.480639   2.708050         2         0                 0   \n",
      "16670          1  3.555348   3.912023         2         1                 0   \n",
      "16671          1  4.644391   3.218876         2         0                 0   \n",
      "16672          1  3.401197   2.995732         2         0                 0   \n",
      "16673          1  4.605170   2.302585         3         0                 1   \n",
      "16674          1  4.077537   3.688879         2         0                 1   \n",
      "16675          1  3.850148   2.995732         2         0                 0   \n",
      "16676          1  3.583519   2.995732         2         0                 0   \n",
      "16677          1  3.688879   3.218876         2         1                 1   \n",
      "16678          1  3.401197   3.912023         4         0                 1   \n",
      "16679          1  5.293305   2.995732         4         0                 0   \n",
      "16680          1  4.595120   3.218876         4         0                 0   \n",
      "16681          1  5.247024   2.302585         3         0                 1   \n",
      "16682          1  4.248495   2.995732         3         1                 1   \n",
      "16683          1  5.389072   2.995732         3         0                 0   \n",
      "16684          1  3.401197   2.708050         1         0                 1   \n",
      "16685          1  3.912023   1.609438         2         0                 1   \n",
      "16686          1  6.946976   2.302585         4         0                 0   \n",
      "16687          1  3.912023   2.302585         4         1                 0   \n",
      "16688          1  4.787492   2.708050         2         1                 1   \n",
      "16689          1  3.688879   2.708050         3         0                 0   \n",
      "16690          1  5.342334   1.609438         3         0                 0   \n",
      "16691          1  3.401197   3.218876         3         0                 0   \n",
      "\n",
      "       Fri  Mon  Sat  Sun      ...        New York City  Orlando  \\\n",
      "0        0    1    0    0      ...                    0        0   \n",
      "1        0    1    0    0      ...                    0        0   \n",
      "2        0    1    0    0      ...                    0        0   \n",
      "3        0    1    0    0      ...                    0        0   \n",
      "4        0    1    0    0      ...                    0        0   \n",
      "5        0    0    0    0      ...                    0        0   \n",
      "6        0    0    0    0      ...                    0        0   \n",
      "7        0    0    0    0      ...                    0        0   \n",
      "8        0    0    0    0      ...                    0        0   \n",
      "9        0    0    0    0      ...                    0        0   \n",
      "10       0    0    0    0      ...                    0        0   \n",
      "11       0    0    0    0      ...                    0        0   \n",
      "12       0    0    0    0      ...                    0        0   \n",
      "13       0    0    0    0      ...                    0        0   \n",
      "14       0    0    0    0      ...                    0        0   \n",
      "15       0    0    0    0      ...                    0        0   \n",
      "16       1    0    0    0      ...                    0        0   \n",
      "17       1    0    0    0      ...                    0        0   \n",
      "18       1    0    0    0      ...                    0        0   \n",
      "19       0    0    0    0      ...                    0        0   \n",
      "20       0    0    0    0      ...                    0        0   \n",
      "21       1    0    0    0      ...                    0        0   \n",
      "22       0    0    1    0      ...                    0        0   \n",
      "23       0    0    1    0      ...                    0        0   \n",
      "24       0    0    1    0      ...                    0        0   \n",
      "25       0    0    1    0      ...                    0        0   \n",
      "26       0    0    0    1      ...                    0        0   \n",
      "27       0    0    0    1      ...                    0        0   \n",
      "28       0    0    0    1      ...                    0        0   \n",
      "29       0    0    0    1      ...                    0        0   \n",
      "...    ...  ...  ...  ...      ...                  ...      ...   \n",
      "16662    0    1    0    0      ...                    0        0   \n",
      "16663    0    0    0    0      ...                    0        0   \n",
      "16664    0    0    0    0      ...                    0        0   \n",
      "16665    0    0    0    0      ...                    0        0   \n",
      "16666    0    0    0    0      ...                    0        0   \n",
      "16667    0    0    0    0      ...                    0        0   \n",
      "16668    0    0    0    0      ...                    0        0   \n",
      "16669    0    0    0    0      ...                    0        0   \n",
      "16670    0    0    0    0      ...                    0        0   \n",
      "16671    0    0    0    0      ...                    0        0   \n",
      "16672    0    0    0    0      ...                    0        0   \n",
      "16673    0    0    0    0      ...                    0        0   \n",
      "16674    0    0    0    0      ...                    0        0   \n",
      "16675    0    0    0    0      ...                    0        0   \n",
      "16676    0    0    0    0      ...                    0        0   \n",
      "16677    0    0    0    0      ...                    0        0   \n",
      "16678    0    0    0    0      ...                    0        0   \n",
      "16679    0    0    0    0      ...                    0        0   \n",
      "16680    0    0    0    0      ...                    0        0   \n",
      "16681    1    0    0    0      ...                    0        0   \n",
      "16682    1    0    0    0      ...                    0        0   \n",
      "16683    1    0    0    0      ...                    0        0   \n",
      "16684    0    0    1    0      ...                    0        0   \n",
      "16685    0    0    1    0      ...                    0        0   \n",
      "16686    0    0    1    0      ...                    0        0   \n",
      "16687    0    0    1    0      ...                    0        0   \n",
      "16688    0    0    0    1      ...                    0        0   \n",
      "16689    0    0    0    1      ...                    0        0   \n",
      "16690    0    0    0    1      ...                    0        0   \n",
      "16691    0    0    0    1      ...                    0        0   \n",
      "\n",
      "       Philadelphia  San Diego  San Francisco  San Jose  Seattle  Tallahassee  \\\n",
      "0                 0          0              0         0        0            0   \n",
      "1                 0          0              0         0        0            0   \n",
      "2                 0          0              0         0        0            0   \n",
      "3                 0          0              0         0        0            0   \n",
      "4                 0          0              0         0        0            0   \n",
      "5                 0          0              0         0        0            0   \n",
      "6                 0          0              0         0        0            0   \n",
      "7                 0          0              0         0        0            0   \n",
      "8                 0          0              0         0        0            0   \n",
      "9                 0          0              0         0        0            0   \n",
      "10                0          0              0         0        0            0   \n",
      "11                0          0              0         0        0            0   \n",
      "12                0          0              0         0        0            0   \n",
      "13                0          0              0         0        0            0   \n",
      "14                0          0              0         0        0            0   \n",
      "15                0          0              0         0        0            0   \n",
      "16                0          0              0         0        0            0   \n",
      "17                0          0              0         0        0            0   \n",
      "18                0          0              0         0        0            0   \n",
      "19                0          0              0         0        0            0   \n",
      "20                0          0              0         0        0            0   \n",
      "21                0          0              0         0        0            0   \n",
      "22                0          0              0         0        0            0   \n",
      "23                0          0              0         0        0            0   \n",
      "24                0          0              0         0        0            0   \n",
      "25                0          0              0         0        0            0   \n",
      "26                0          0              0         0        0            0   \n",
      "27                0          0              0         0        0            0   \n",
      "28                0          0              0         0        0            0   \n",
      "29                0          0              0         0        0            0   \n",
      "...             ...        ...            ...       ...      ...          ...   \n",
      "16662             0          0              0         0        0            0   \n",
      "16663             0          0              0         0        0            0   \n",
      "16664             0          0              0         0        0            0   \n",
      "16665             0          0              0         0        0            0   \n",
      "16666             0          0              0         0        0            0   \n",
      "16667             0          0              0         0        0            0   \n",
      "16668             0          0              0         0        0            0   \n",
      "16669             0          0              0         0        0            0   \n",
      "16670             0          0              0         0        0            0   \n",
      "16671             0          0              0         0        0            0   \n",
      "16672             0          0              0         0        0            0   \n",
      "16673             0          0              0         0        0            0   \n",
      "16674             0          0              0         0        0            0   \n",
      "16675             0          0              0         0        0            0   \n",
      "16676             0          0              0         0        0            0   \n",
      "16677             0          0              0         0        0            0   \n",
      "16678             0          0              0         0        0            0   \n",
      "16679             0          0              0         0        0            0   \n",
      "16680             0          0              0         0        0            0   \n",
      "16681             0          0              0         0        0            0   \n",
      "16682             0          0              0         0        0            0   \n",
      "16683             0          0              0         0        0            0   \n",
      "16684             0          0              0         0        0            0   \n",
      "16685             0          0              0         0        0            0   \n",
      "16686             0          0              0         0        0            0   \n",
      "16687             0          0              0         0        0            0   \n",
      "16688             0          0              0         0        0            0   \n",
      "16689             0          0              0         0        0            0   \n",
      "16690             0          0              0         0        0            0   \n",
      "16691             0          0              0         0        0            0   \n",
      "\n",
      "       Vancouver  Washington DC  \n",
      "0              0              0  \n",
      "1              0              0  \n",
      "2              0              0  \n",
      "3              0              0  \n",
      "4              0              0  \n",
      "5              0              0  \n",
      "6              0              0  \n",
      "7              0              0  \n",
      "8              0              0  \n",
      "9              0              0  \n",
      "10             0              0  \n",
      "11             0              0  \n",
      "12             0              0  \n",
      "13             0              0  \n",
      "14             0              0  \n",
      "15             0              0  \n",
      "16             0              0  \n",
      "17             0              0  \n",
      "18             0              0  \n",
      "19             0              0  \n",
      "20             0              0  \n",
      "21             0              0  \n",
      "22             0              0  \n",
      "23             0              0  \n",
      "24             0              0  \n",
      "25             0              0  \n",
      "26             0              0  \n",
      "27             0              0  \n",
      "28             0              0  \n",
      "29             0              0  \n",
      "...          ...            ...  \n",
      "16662          0              1  \n",
      "16663          0              1  \n",
      "16664          0              1  \n",
      "16665          0              1  \n",
      "16666          0              1  \n",
      "16667          0              1  \n",
      "16668          0              1  \n",
      "16669          0              1  \n",
      "16670          0              1  \n",
      "16671          0              1  \n",
      "16672          0              1  \n",
      "16673          0              1  \n",
      "16674          0              1  \n",
      "16675          0              1  \n",
      "16676          0              1  \n",
      "16677          0              1  \n",
      "16678          0              1  \n",
      "16679          0              1  \n",
      "16680          0              1  \n",
      "16681          0              1  \n",
      "16682          0              1  \n",
      "16683          0              1  \n",
      "16684          0              1  \n",
      "16685          0              1  \n",
      "16686          0              1  \n",
      "16687          0              1  \n",
      "16688          0              1  \n",
      "16689          0              1  \n",
      "16690          0              1  \n",
      "16691          0              1  \n",
      "\n",
      "[16692 rows x 51 columns]\n"
     ]
    },
    {
     "name": "stderr",
     "output_type": "stream",
     "text": [
      "/Users/leonardobotrel/anaconda2/lib/python2.7/site-packages/ipykernel_launcher.py:8: RuntimeWarning: divide by zero encountered in log\n",
      "  \n",
      "/Users/leonardobotrel/anaconda2/lib/python2.7/site-packages/ipykernel_launcher.py:21: RuntimeWarning: divide by zero encountered in log\n"
     ]
    }
   ],
   "source": [
    "#cols = realData.shape[1]\n",
    "#X = realData[['beta zero', 'value', 'tips_with', 'duration', 'featured', 'limited_quantity' , 'weekday_start', 'category', 'city']]\n",
    "y = realData[['num_sold']]\n",
    "\n",
    "b = realData[['beta zero']]\n",
    "p = np.log(realData.value)\n",
    "#t = np.where(realData[['tips_with']] > 0, np.log(realData[['tips_with']]), 0)\n",
    "t = np.log(realData.tips_with)\n",
    "t = t.replace(-np.inf, 0)\n",
    "#t = realData[['tips_with']]\n",
    "d = realData[['duration']]\n",
    "f = realData[['featured']]\n",
    "l = realData[['limited_quantity']]\n",
    "\n",
    "\n",
    "#X.value = np.log(X.value)\n",
    "#X.tips_with = np.log(X.tips_with)\n",
    "#X.weekday_start = pd.get_dummies(X.weekday_start)\n",
    "#X.category = pd.get_dummies(X.category)\n",
    "#X.city = pd.get_dummies(X.city)\n",
    "y.num_sold = np.log(realData.num_sold)\n",
    "y = y.replace(-np.inf, 0)\n",
    "w = pd.get_dummies(realData.weekday_start)\n",
    "c = pd.get_dummies(realData.category)\n",
    "g = pd.get_dummies(realData.city)\n",
    "\n",
    "#X = pd.get_dummies(X, columns=['value', 'tips_with', 'duration', 'featured', 'limited_quantity' , 'weekday_start', 'category', 'city'])\n",
    "#y = pd.get_dummies(y, columns=['num_sold'])\n",
    "\n",
    "#row_count = realData.shape[0]\n",
    "\n",
    "#for i in range (row_count):\n",
    "#    X.value[i+1] = int(X.value[i+1])\n",
    "#    X.tips_with[i+1] = int(X.tips_with[i+1])\n",
    "#    X.duration[i+1] = int(X.duration[i+1])\n",
    "#    X.limited_quantity[i+1] = int(X.limited_quantity[i+1])\n",
    "#    y.num_sold[i+1] = int(y.num_sold[i+1])\n",
    "X = pd.concat([b, p, t, d, f, l, w, c, g], axis = 1)\n",
    "print(X)\n",
    "#for i in range (761):\n",
    "#    print('0,', end = \"\")"
   ]
  },
  {
   "cell_type": "code",
   "execution_count": 112,
   "metadata": {},
   "outputs": [
    {
     "data": {
      "text/html": [
       "<div>\n",
       "<style scoped>\n",
       "    .dataframe tbody tr th:only-of-type {\n",
       "        vertical-align: middle;\n",
       "    }\n",
       "\n",
       "    .dataframe tbody tr th {\n",
       "        vertical-align: top;\n",
       "    }\n",
       "\n",
       "    .dataframe thead th {\n",
       "        text-align: right;\n",
       "    }\n",
       "</style>\n",
       "<table border=\"1\" class=\"dataframe\">\n",
       "  <thead>\n",
       "    <tr style=\"text-align: right;\">\n",
       "      <th></th>\n",
       "      <th>num_sold</th>\n",
       "    </tr>\n",
       "  </thead>\n",
       "  <tbody>\n",
       "    <tr>\n",
       "      <th>0</th>\n",
       "      <td>4.682131</td>\n",
       "    </tr>\n",
       "    <tr>\n",
       "      <th>1</th>\n",
       "      <td>5.541264</td>\n",
       "    </tr>\n",
       "    <tr>\n",
       "      <th>2</th>\n",
       "      <td>5.863631</td>\n",
       "    </tr>\n",
       "    <tr>\n",
       "      <th>3</th>\n",
       "      <td>6.216606</td>\n",
       "    </tr>\n",
       "    <tr>\n",
       "      <th>4</th>\n",
       "      <td>5.883322</td>\n",
       "    </tr>\n",
       "  </tbody>\n",
       "</table>\n",
       "</div>"
      ],
      "text/plain": [
       "   num_sold\n",
       "0  4.682131\n",
       "1  5.541264\n",
       "2  5.863631\n",
       "3  6.216606\n",
       "4  5.883322"
      ]
     },
     "execution_count": 112,
     "metadata": {},
     "output_type": "execute_result"
    }
   ],
   "source": [
    "y.head()"
   ]
  },
  {
   "cell_type": "code",
   "execution_count": 113,
   "metadata": {},
   "outputs": [
    {
     "data": {
      "text/plain": [
       "matrix([[0, 0, 0, 0, 0, 0, 0, 0, 0, 0, 0, 0, 0, 0, 0, 0, 0, 0, 0, 0, 0,\n",
       "         0, 0, 0, 0, 0, 0, 0, 0, 0, 0, 0, 0, 0, 0, 0, 0, 0, 0, 0, 0, 0,\n",
       "         0, 0, 0, 0, 0, 0, 0, 0, 0]])"
      ]
     },
     "execution_count": 113,
     "metadata": {},
     "output_type": "execute_result"
    }
   ],
   "source": [
    "X = np.matrix(X.values)\n",
    "y = np.matrix(y.values)\n",
    "beta = np.matrix(np.array([0,0,0,0,0,0,0,0,0,0,0,0,0,0,0,0,0,0,0,0,0,0,0,0,0,0,0,0,0,0,0,0,0,0,0,0,0,0,0,0,0,0,0,0,0,0,0,0,0,0,0]))\n",
    "\n",
    "beta"
   ]
  },
  {
   "cell_type": "code",
   "execution_count": 114,
   "metadata": {},
   "outputs": [
    {
     "data": {
      "text/plain": [
       "((16692, 51), (1, 51), (16692, 1))"
      ]
     },
     "execution_count": 114,
     "metadata": {},
     "output_type": "execute_result"
    }
   ],
   "source": [
    "X.shape, beta.shape, y.shape"
   ]
  },
  {
   "cell_type": "code",
   "execution_count": 115,
   "metadata": {},
   "outputs": [
    {
     "data": {
      "text/plain": [
       "matrix([[16.90636901]])"
      ]
     },
     "execution_count": 115,
     "metadata": {},
     "output_type": "execute_result"
    }
   ],
   "source": [
    "compute_cost(X, y, beta)"
   ]
  },
  {
   "cell_type": "code",
   "execution_count": 116,
   "metadata": {},
   "outputs": [],
   "source": [
    "alpha = 0.01\n",
    "iters = 1500"
   ]
  },
  {
   "cell_type": "code",
   "execution_count": 117,
   "metadata": {},
   "outputs": [
    {
     "data": {
      "text/plain": [
       "matrix([[ 1.32799776e+00,  5.86748183e-02,  1.06511876e+00,\n",
       "          1.24084439e-02,  5.62026942e-01,  7.10297099e-02,\n",
       "          2.78890936e-01,  8.48868572e-02,  1.78595436e-01,\n",
       "          8.23904830e-02,  2.42925788e-01,  1.96349372e-01,\n",
       "          2.63958885e-01,  1.82208931e-01,  6.43685123e-02,\n",
       "         -4.01865369e-02, -5.19296870e-02, -9.26992876e-03,\n",
       "          4.25910281e-01, -9.49981226e-02, -6.86428911e-02,\n",
       "         -5.10782876e-04,  4.89746011e-02,  2.40221807e-02,\n",
       "          1.13236752e-02, -4.32706903e-02,  1.72768716e-03,\n",
       "          1.00308742e-03,  6.09790869e-01,  2.87416161e-01,\n",
       "         -1.99395883e-02,  8.92170281e-02,  8.35592328e-02,\n",
       "          1.05547253e-01,  3.78660785e-02,  3.08646635e-02,\n",
       "          9.83717047e-02,  1.13151525e-01,  1.20023544e-01,\n",
       "          1.57248874e-02,  7.62599472e-02, -2.69545371e-02,\n",
       "          3.13359870e-02, -8.74911100e-02, -1.11654632e-01,\n",
       "          1.54293922e-01,  8.61507145e-02,  9.00084919e-02,\n",
       "          5.19671189e-02,  3.42949845e-02,  3.35460955e-01]])"
      ]
     },
     "execution_count": 117,
     "metadata": {},
     "output_type": "execute_result"
    }
   ],
   "source": [
    "g, cost = gradient_descent(X, y, beta, alpha, iters)\n",
    "g"
   ]
  },
  {
   "cell_type": "code",
   "execution_count": 118,
   "metadata": {},
   "outputs": [
    {
     "data": {
      "text/plain": [
       "matrix([[9.31904825]])"
      ]
     },
     "execution_count": 118,
     "metadata": {},
     "output_type": "execute_result"
    }
   ],
   "source": [
    "compute_cost(X, y, g)"
   ]
  },
  {
   "cell_type": "code",
   "execution_count": null,
   "metadata": {},
   "outputs": [],
   "source": []
  }
 ],
 "metadata": {
  "kernelspec": {
   "display_name": "Python 2",
   "language": "python",
   "name": "python2"
  },
  "language_info": {
   "codemirror_mode": {
    "name": "ipython",
    "version": 2
   },
   "file_extension": ".py",
   "mimetype": "text/x-python",
   "name": "python",
   "nbconvert_exporter": "python",
   "pygments_lexer": "ipython2",
   "version": "2.7.15"
  }
 },
 "nbformat": 4,
 "nbformat_minor": 1
}
